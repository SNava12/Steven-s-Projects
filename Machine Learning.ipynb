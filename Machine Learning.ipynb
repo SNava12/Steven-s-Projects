{
 "cells": [
  {
   "cell_type": "markdown",
   "metadata": {},
   "source": [
    "# Machine Learning Practice "
   ]
  },
  {
   "cell_type": "code",
   "execution_count": 7,
   "metadata": {},
   "outputs": [
    {
     "name": "stdout",
     "output_type": "stream",
     "text": [
      "Shape:  (9029, 10)\n"
     ]
    },
    {
     "data": {
      "text/html": [
       "<div>\n",
       "<style scoped>\n",
       "    .dataframe tbody tr th:only-of-type {\n",
       "        vertical-align: middle;\n",
       "    }\n",
       "\n",
       "    .dataframe tbody tr th {\n",
       "        vertical-align: top;\n",
       "    }\n",
       "\n",
       "    .dataframe thead th {\n",
       "        text-align: right;\n",
       "    }\n",
       "</style>\n",
       "<table border=\"1\" class=\"dataframe\">\n",
       "  <thead>\n",
       "    <tr style=\"text-align: right;\">\n",
       "      <th></th>\n",
       "      <th>Vsl</th>\n",
       "      <th>Vsg</th>\n",
       "      <th>VisL</th>\n",
       "      <th>VisG</th>\n",
       "      <th>DenL</th>\n",
       "      <th>DenG</th>\n",
       "      <th>ST</th>\n",
       "      <th>Ang</th>\n",
       "      <th>ID</th>\n",
       "      <th>FlowPattern</th>\n",
       "    </tr>\n",
       "  </thead>\n",
       "  <tbody>\n",
       "    <tr>\n",
       "      <th>0</th>\n",
       "      <td>0.04482</td>\n",
       "      <td>0.81402</td>\n",
       "      <td>0.001</td>\n",
       "      <td>0.00007</td>\n",
       "      <td>1000.0</td>\n",
       "      <td>1.12</td>\n",
       "      <td>0.07</td>\n",
       "      <td>0.0</td>\n",
       "      <td>0.0254</td>\n",
       "      <td>3</td>\n",
       "    </tr>\n",
       "    <tr>\n",
       "      <th>1</th>\n",
       "      <td>0.06098</td>\n",
       "      <td>0.81402</td>\n",
       "      <td>0.001</td>\n",
       "      <td>0.00007</td>\n",
       "      <td>1000.0</td>\n",
       "      <td>1.12</td>\n",
       "      <td>0.07</td>\n",
       "      <td>0.0</td>\n",
       "      <td>0.0254</td>\n",
       "      <td>5</td>\n",
       "    </tr>\n",
       "    <tr>\n",
       "      <th>2</th>\n",
       "      <td>0.08811</td>\n",
       "      <td>0.81402</td>\n",
       "      <td>0.001</td>\n",
       "      <td>0.00007</td>\n",
       "      <td>1000.0</td>\n",
       "      <td>1.12</td>\n",
       "      <td>0.07</td>\n",
       "      <td>0.0</td>\n",
       "      <td>0.0254</td>\n",
       "      <td>5</td>\n",
       "    </tr>\n",
       "    <tr>\n",
       "      <th>3</th>\n",
       "      <td>0.06098</td>\n",
       "      <td>1.10366</td>\n",
       "      <td>0.001</td>\n",
       "      <td>0.00007</td>\n",
       "      <td>1000.0</td>\n",
       "      <td>1.12</td>\n",
       "      <td>0.07</td>\n",
       "      <td>0.0</td>\n",
       "      <td>0.0254</td>\n",
       "      <td>5</td>\n",
       "    </tr>\n",
       "    <tr>\n",
       "      <th>4</th>\n",
       "      <td>0.12195</td>\n",
       "      <td>1.10366</td>\n",
       "      <td>0.001</td>\n",
       "      <td>0.00007</td>\n",
       "      <td>1000.0</td>\n",
       "      <td>1.12</td>\n",
       "      <td>0.07</td>\n",
       "      <td>0.0</td>\n",
       "      <td>0.0254</td>\n",
       "      <td>5</td>\n",
       "    </tr>\n",
       "  </tbody>\n",
       "</table>\n",
       "</div>"
      ],
      "text/plain": [
       "       Vsl      Vsg   VisL     VisG    DenL  DenG    ST  Ang      ID  \\\n",
       "0  0.04482  0.81402  0.001  0.00007  1000.0  1.12  0.07  0.0  0.0254   \n",
       "1  0.06098  0.81402  0.001  0.00007  1000.0  1.12  0.07  0.0  0.0254   \n",
       "2  0.08811  0.81402  0.001  0.00007  1000.0  1.12  0.07  0.0  0.0254   \n",
       "3  0.06098  1.10366  0.001  0.00007  1000.0  1.12  0.07  0.0  0.0254   \n",
       "4  0.12195  1.10366  0.001  0.00007  1000.0  1.12  0.07  0.0  0.0254   \n",
       "\n",
       "   FlowPattern  \n",
       "0            3  \n",
       "1            5  \n",
       "2            5  \n",
       "3            5  \n",
       "4            5  "
      ]
     },
     "execution_count": 7,
     "metadata": {},
     "output_type": "execute_result"
    }
   ],
   "source": [
    "import pandas as pd\n",
    "from sklearn.neighbors import KNeighborsClassifier\n",
    "from sklearn.metrics import accuracy_score\n",
    "from sklearn.model_selection import GridSearchCV\n",
    "from sklearn.metrics import confusion_matrix\n",
    "\n",
    "data = pd.read_csv('bd12experiments6fp.csv')\n",
    "print('Shape: ',data.shape)\n",
    "data.head()"
   ]
  },
  {
   "cell_type": "code",
   "execution_count": 8,
   "metadata": {},
   "outputs": [
    {
     "name": "stdout",
     "output_type": "stream",
     "text": [
      "Accuracy score:  0.9317753904086832\n"
     ]
    },
    {
     "data": {
      "text/plain": [
       "array([[ 765,    0,    2,    0,   49,    0],\n",
       "       [   0,  540,    3,    7,   32,    0],\n",
       "       [   2,    8, 1014,   36,   33,    0],\n",
       "       [   0,   12,   50, 1528,   74,    0],\n",
       "       [  48,   38,   90,  105, 4429,   11],\n",
       "       [   1,    0,    0,    1,   14,  137]], dtype=int64)"
      ]
     },
     "execution_count": 8,
     "metadata": {},
     "output_type": "execute_result"
    }
   ],
   "source": [
    "clf1 = KNeighborsClassifier(n_neighbors=3).fit(data.iloc[:,:-1].values,data.iloc[:,-1:].values.ravel())\n",
    "y_pred = clf1.predict(data.iloc[:,:-1].values)\n",
    "print('Accuracy score: ',accuracy_score(data.iloc[:,-1:].values, y_pred))\n",
    "confusion_matrix(data.iloc[:,-1:].values, y_pred)"
   ]
  },
  {
   "cell_type": "code",
   "execution_count": 9,
   "metadata": {},
   "outputs": [
    {
     "name": "stdout",
     "output_type": "stream",
     "text": [
      "Best leaf_size: 4\n",
      "Best n_neighbors: 1\n"
     ]
    }
   ],
   "source": [
    "leaf_size = list(range(1,10))\n",
    "n_neighbors = list(range(1,5))\n",
    "\n",
    "hyperparameters = dict(leaf_size=leaf_size, n_neighbors=n_neighbors)\n",
    "clf2 = KNeighborsClassifier()\n",
    "clf3 = GridSearchCV(clf2, hyperparameters, cv=5)\n",
    "best_model = clf3.fit(data.iloc[:,:-1].values,data.iloc[:,-1:].values.ravel())\n",
    "print('Best leaf_size:', best_model.best_estimator_.get_params()['leaf_size'])\n",
    "print('Best n_neighbors:', best_model.best_estimator_.get_params()['n_neighbors'])"
   ]
  },
  {
   "cell_type": "code",
   "execution_count": 5,
   "metadata": {},
   "outputs": [
    {
     "name": "stdout",
     "output_type": "stream",
     "text": [
      "Accuracy score:  0.9317753904086832\n",
      "confusion Matrix: \n"
     ]
    },
    {
     "data": {
      "text/plain": [
       "array([[ 765,    0,    2,    0,   49,    0],\n",
       "       [   0,  540,    3,    7,   32,    0],\n",
       "       [   2,    8, 1014,   36,   33,    0],\n",
       "       [   0,   12,   50, 1528,   74,    0],\n",
       "       [  48,   38,   90,  105, 4429,   11],\n",
       "       [   1,    0,    0,    1,   14,  137]], dtype=int64)"
      ]
     },
     "execution_count": 5,
     "metadata": {},
     "output_type": "execute_result"
    }
   ],
   "source": [
    "clf4 = KNeighborsClassifier(n_neighbors=3,leaf_size=1).fit(data.iloc[:,:-1].values,data.iloc[:,-1:].values.ravel())\n",
    "y_pred = clf1.predict(data.iloc[:,:-1].values)\n",
    "print('Accuracy score: ',accuracy_score(data.iloc[:,-1:].values, y_pred))\n",
    "print('confusion Matrix: ')\n",
    "confusion_matrix(data.iloc[:,-1:].values, y_pred)"
   ]
  },
  {
   "cell_type": "code",
   "execution_count": null,
   "metadata": {},
   "outputs": [],
   "source": []
  }
 ],
 "metadata": {
  "kernelspec": {
   "display_name": "Python 3 (ipykernel)",
   "language": "python",
   "name": "python3"
  },
  "language_info": {
   "codemirror_mode": {
    "name": "ipython",
    "version": 3
   },
   "file_extension": ".py",
   "mimetype": "text/x-python",
   "name": "python",
   "nbconvert_exporter": "python",
   "pygments_lexer": "ipython3",
   "version": "3.11.5"
  }
 },
 "nbformat": 4,
 "nbformat_minor": 2
}
